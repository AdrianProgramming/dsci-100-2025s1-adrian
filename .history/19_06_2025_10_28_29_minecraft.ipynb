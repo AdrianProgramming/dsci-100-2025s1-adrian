{
 "cells": [
  {
   "cell_type": "code",
   "execution_count": null,
   "id": "e9773308-6b34-4476-8cec-0b03978b80bf",
   "metadata": {},
   "outputs": [],
   "source": [
    "library(tidyverse)\n",
    "library(repr)\n",
    "library(infer)\n",
    "library(cowplot)\n",
    "options(repr.matrix.max.rows = 6)\n",
    "source('cleanup.R')"
   ]
  },
  {
   "cell_type": "code",
   "execution_count": null,
   "id": "a831b173-a3ec-483e-b01b-58ec62315d7c",
   "metadata": {},
   "outputs": [],
   "source": [
    "players <- read_csv(data/players.csv)"
   ]
  },
  {
   "cell_type": "code",
   "execution_count": null,
   "id": "a46e71af-159f-45d0-8d14-ce69fbb1e652",
   "metadata": {},
   "outputs": [],
   "source": []
  }
 ],
 "metadata": {
  "kernelspec": {
   "display_name": "R",
   "language": "R",
   "name": "ir"
  },
  "language_info": {
   "codemirror_mode": "r",
   "file_extension": ".r",
   "mimetype": "text/x-r-source",
   "name": "R",
   "pygments_lexer": "r",
   "version": "4.3.3"
  }
 },
 "nbformat": 4,
 "nbformat_minor": 5
}
