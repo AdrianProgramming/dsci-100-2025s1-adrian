{
 "cells": [
  {
   "cell_type": "code",
   "execution_count": null,
   "id": "e9773308-6b34-4476-8cec-0b03978b80bf",
   "metadata": {},
   "outputs": [],
   "source": [
    "library(tidyverse)\n",
    "library(repr)\n",
    "library(infer)\n",
    "library(cowplot)\n",
    "library(tidymodels)\n",
    "options(repr.matrix.max.rows = 6)"
   ]
  },
  {
   "cell_type": "code",
   "execution_count": null,
   "id": "a831b173-a3ec-483e-b01b-58ec62315d7c",
   "metadata": {},
   "outputs": [],
   "source": [
    "players <- read_csv(\"players.csv\")\n",
    "\n",
    "players"
   ]
  },
  {
   "cell_type": "code",
   "execution_count": null,
   "id": "a46e71af-159f-45d0-8d14-ce69fbb1e652",
   "metadata": {},
   "outputs": [],
   "source": [
    "sessions <- read_csv(\"sessions.csv\")\n",
    "\n",
    "sessions"
   ]
  },
  {
   "cell_type": "code",
   "execution_count": null,
   "id": "a8946c45-3cee-40af-8f00-cfbcc435059c",
   "metadata": {},
   "outputs": [],
   "source": [
    "new_players <- players |>\n",
    "select(experience, subscribe, played_hours, gender, Age)\n",
    "new_players"
   ]
  },
  {
   "cell_type": "code",
   "execution_count": null,
   "id": "fd1f443c-d274-4658-bea7-231520ad7e3e",
   "metadata": {},
   "outputs": [],
   "source": [
    "new_players$experience[new_players$experience == \"Pro\"] <- 4\n",
    "\n",
    "new_players$experience[new_players$experience == \"Veteran\"] <- 5\n",
    "\n",
    "new_players$experience[new_players$experience == \"Amateur\"] <- 1\n",
    "\n",
    "new_players$experience[new_players$experience == \"Regular\"] <- 3\n",
    "\n",
    "new_players$experience[new_players$experience == \"Beginner\"] <- 2"
   ]
  },
  {
   "cell_type": "code",
   "execution_count": null,
   "id": "3ce6bbc9-1068-40ae-8cd2-08e2ebed6793",
   "metadata": {},
   "outputs": [],
   "source": [
    "newest_players <- new_players |>\n",
    "mutate(gender = as_factor(gender), subscribe = as_factor(subscribe),\n",
    "      experience = as.integer(as_factor(experience)))\n",
    "\n",
    "newest_players"
   ]
  },
  {
   "cell_type": "code",
   "execution_count": null,
   "id": "a6d1fffd-effe-47bc-988f-f58198fc7b63",
   "metadata": {},
   "outputs": [],
   "source": [
    "experience_played_hours_plot <- newest_players |>\n",
    "   ggplot(aes(x = experience, y = played_hours, color = subscribe)) + \n",
    "   geom_point() + \n",
    "   xlab(\"Experience (standardized)\") +\n",
    "   ylab(\"played_hours (standardized)\") +\n",
    "   ggtitle(\"played_hours vs. experience\") +\n",
    "   labs(color = \"Class of subscribe\")\n",
    "\n",
    "experience_played_hours_plot"
   ]
  },
  {
   "cell_type": "code",
   "execution_count": null,
   "id": "cf5fcdea-4b32-47c8-836e-ef4e0a030815",
   "metadata": {},
   "outputs": [],
   "source": [
    "gender_Age_plot <- newest_players |>\n",
    "   ggplot(aes(x = gender, y = Age, color = subscribe)) + \n",
    "   geom_point() + \n",
    "   xlab(\"gender (standardized)\") +\n",
    "   ylab(\"Age (standardized)\") +\n",
    "   ggtitle(\"Age vs. gender\") +\n",
    "   labs(color = \"Class of subscribe\")\n",
    "\n",
    "gender_Age_plot"
   ]
  },
  {
   "cell_type": "code",
   "execution_count": null,
   "id": "da20d28d-686b-4054-8407-81c31bcdb57d",
   "metadata": {},
   "outputs": [],
   "source": [
    "played_hours_Age_plot <- newest_players |>\n",
    "   ggplot(aes(x = played_hours, y = Age, color = subscribe)) + \n",
    "   geom_point() + \n",
    "   xlab(\"played_hours (standardized)\") +\n",
    "   ylab(\"Age (standardized)\") +\n",
    "   ggtitle(\"Age vs. hours\") +\n",
    "   labs(color = \"Class of subscribe\")\n",
    "\n",
    "played_hours_Age_plot"
   ]
  },
  {
   "cell_type": "code",
   "execution_count": null,
   "id": "b87e29f6-1630-4731-a229-50952f7a8fc0",
   "metadata": {},
   "outputs": [],
   "source": [
    "experience_Age_plot <- newest_players |>\n",
    "   ggplot(aes(x = experience, y = Age, color = subscribe)) + \n",
    "   geom_point() + \n",
    "   xlab(\"played_hours (standardized)\") +\n",
    "   ylab(\"Age (standardized)\") +\n",
    "   ggtitle(\"Age vs. experience\") +\n",
    "   labs(color = \"Class of subscribe\")\n",
    "\n",
    "experience_Age_plot"
   ]
  },
  {
   "cell_type": "code",
   "execution_count": null,
   "id": "ad6bdca5-72af-4b60-946e-1db4c4ac35e5",
   "metadata": {},
   "outputs": [],
   "source": [
    "minecraft_split <- initial_split(newest_players, prop = 0.75, strata = subscribe)  \n",
    "minecraft_train <- training(minecraft_split)   \n",
    "minecraft_test <- testing(minecraft_split)"
   ]
  },
  {
   "cell_type": "code",
   "execution_count": null,
   "id": "f8218080-5b64-4445-ac5b-1d8241ad3e7b",
   "metadata": {},
   "outputs": [],
   "source": [
    "minecraft_recipe <- recipe(subscribe ~ experience + Age +  played_hours, data = newest_players) |>\n",
    "   step_scale(experience, Age, played_hours) |>\n",
    "   step_center(experience, Age, played_hours)"
   ]
  },
  {
   "cell_type": "code",
   "execution_count": null,
   "id": "59b35191-87fa-4374-844d-2250a6b882a1",
   "metadata": {},
   "outputs": [],
   "source": [
    "knn_spec <- nearest_neighbor(weight_func = \"rectangular\", neighbors = 3) |>\n",
    "      set_engine(\"kknn\") |>\n",
    "      set_mode(\"classification\")\n",
    "\n",
    "minecraft_fit <- workflow() |>\n",
    "      add_recipe(minecraft_recipe) |>\n",
    "      add_model(knn_spec) |>\n",
    "      fit(data = newest_players)\n",
    "\n",
    "minecraft_fit"
   ]
  },
  {
   "cell_type": "code",
   "execution_count": null,
   "id": "90909f8e-4385-4ca3-b78e-0e9870609822",
   "metadata": {},
   "outputs": [],
   "source": [
    "minecraft_test_predictions <- predict(minecraft_fit , minecraft_test) |>\n",
    "      bind_cols(minecraft_test)"
   ]
  }
 ],
 "metadata": {
  "kernelspec": {
   "display_name": "R",
   "language": "R",
   "name": "ir"
  },
  "language_info": {
   "codemirror_mode": "r",
   "file_extension": ".r",
   "mimetype": "text/x-r-source",
   "name": "R",
   "pygments_lexer": "r",
   "version": "4.3.3"
  }
 },
 "nbformat": 4,
 "nbformat_minor": 5
}
