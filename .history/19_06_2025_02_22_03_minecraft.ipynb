{
 "cells": [
  {
   "cell_type": "code",
   "execution_count": null,
   "id": "e9773308-6b34-4476-8cec-0b03978b80bf",
   "metadata": {},
   "outputs": [],
   "source": [
    "library(tidyverse)\n",
    "library(repr)\n",
    "library(infer)\n",
    "library(cowplot)\n",
    "options(repr.matrix.max.rows = 6)\n",
    "source('cleanup.R')"
   ]
  },
  {
   "cell_type": "code",
   "execution_count": null,
   "id": "a831b173-a3ec-483e-b01b-58ec62315d7c",
   "metadata": {},
   "outputs": [],
   "source": [
    "players <- read_csv(data/players.csv)"
   ]
  },
  {
   "cell_type": "code",
   "execution_count": null,
   "id": "a46e71af-159f-45d0-8d14-ce69fbb1e652",
   "metadata": {},
   "outputs": [],
   "source": []
  }
 ],
 "metadata": {
  "kernelspec": {
   "display_name": "Python 3 (ipykernel)",
   "language": "python",
   "name": "python3"
  },
  "language_info": {
   "codemirror_mode": {
    "name": "ipython",
    "version": 3
   },
   "file_extension": ".py",
   "mimetype": "text/x-python",
   "name": "python",
   "nbconvert_exporter": "python",
   "pygments_lexer": "ipython3",
   "version": "3.11.9"
  }
 },
 "nbformat": 4,
 "nbformat_minor": 5
}
